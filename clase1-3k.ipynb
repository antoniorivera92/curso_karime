{
 "cells": [
  {
   "cell_type": "markdown",
   "metadata": {},
   "source": [
    "# Clase 3"
   ]
  },
  {
   "cell_type": "markdown",
   "metadata": {},
   "source": [
    "## Fracciones (otra vez)"
   ]
  },
  {
   "cell_type": "markdown",
   "metadata": {},
   "source": [
    "### Fracciones propias"
   ]
  },
  {
   "cell_type": "markdown",
   "metadata": {},
   "source": [
    "Son las fracciones cuyo numerador es menor que el denominador; p. ej. $\\dfrac{3}{5}$\n",
    "\n",
    "(Cuando no te pasas de un entero)"
   ]
  },
  {
   "cell_type": "markdown",
   "metadata": {},
   "source": [
    "### Fracciones impropias"
   ]
  },
  {
   "cell_type": "markdown",
   "metadata": {},
   "source": [
    "Son las fracciones cuyo numerador es mayor que el denominador; p. ej. $\\dfrac{76}{11}$\n",
    "\n",
    "(Cuando te pasas de un entero)"
   ]
  },
  {
   "cell_type": "markdown",
   "metadata": {},
   "source": [
    "### Fracciones mixtas"
   ]
  },
  {
   "cell_type": "markdown",
   "metadata": {},
   "source": [
    "Son las fracciones que tienen una parte entera; p. ej. $4\\,\\dfrac{3}{4}$"
   ]
  },
  {
   "cell_type": "markdown",
   "metadata": {},
   "source": [
    "*Solamente en el caso de la fracciones mixtas, entenderemos que los enteros se suman con la fracción.*"
   ]
  },
  {
   "cell_type": "markdown",
   "metadata": {},
   "source": [
    " $$4\\,\\dfrac{3}{4}=4+\\dfrac{3}{4}$$"
   ]
  },
  {
   "cell_type": "markdown",
   "metadata": {},
   "source": [
    "### Cómo convertir una fracción mixta en impropia"
   ]
  },
  {
   "cell_type": "markdown",
   "metadata": {},
   "source": [
    "Sólo multiplicamos el entero por el denominador de la fracción que le acompaña y lo sumamos al numerador."
   ]
  },
  {
   "cell_type": "markdown",
   "metadata": {},
   "source": [
    "* ***Ejemplo:***"
   ]
  },
  {
   "cell_type": "markdown",
   "metadata": {},
   "source": [
    "$$ 4\\,\\dfrac{3}{4}=\\dfrac{4\\cdot4+3}{4}=\\dfrac{19}{4} $$"
   ]
  },
  {
   "cell_type": "markdown",
   "metadata": {},
   "source": [
    "$$\\circledast$$"
   ]
  },
  {
   "cell_type": "markdown",
   "metadata": {},
   "source": [
    "### Cómo convertir una fracción impropia en mixta"
   ]
  },
  {
   "cell_type": "markdown",
   "metadata": {},
   "source": [
    "Hacemos la división con casita: el cociente es la parte entera, mientras que el residuo y el divisor son el numerador y el denominador de la fracción, respectivamente."
   ]
  },
  {
   "cell_type": "markdown",
   "metadata": {},
   "source": [
    "* ***Ejemplo:***"
   ]
  },
  {
   "cell_type": "markdown",
   "metadata": {},
   "source": [
    "$$ \\dfrac{76}{11}=6\\,\\dfrac{10}{11}$$"
   ]
  },
  {
   "cell_type": "markdown",
   "metadata": {},
   "source": [
    "$$\\circledast$$"
   ]
  },
  {
   "cell_type": "markdown",
   "metadata": {},
   "source": [
    "## Proporción"
   ]
  },
  {
   "cell_type": "markdown",
   "metadata": {},
   "source": [
    "Una *proporción* es una relación entre dos números que definen la cantidad de una cosa con respecto a la cantidad de otra."
   ]
  },
  {
   "cell_type": "markdown",
   "metadata": {},
   "source": [
    "* ***Ejemplo:***"
   ]
  },
  {
   "cell_type": "markdown",
   "metadata": {},
   "source": [
    "La proporción de narices con respecto a piernas (en un humano) es de $1:2$ (1 a 2).\n",
    "\n",
    "La proporción de ojos con respecto a piernas (en un humano) es de $2:2$."
   ]
  },
  {
   "cell_type": "markdown",
   "metadata": {},
   "source": [
    "Las proporciones se pueden escribir como fracción:"
   ]
  },
  {
   "cell_type": "markdown",
   "metadata": {},
   "source": [
    "$$ \\dfrac{2}{2}=\\dfrac{1}{1} $$"
   ]
  },
  {
   "cell_type": "markdown",
   "metadata": {},
   "source": [
    "La proporción de ojos con respecto a piernas (en un humano) es de $1:1$."
   ]
  },
  {
   "cell_type": "markdown",
   "metadata": {},
   "source": [
    "$$\\circledast$$"
   ]
  },
  {
   "cell_type": "markdown",
   "metadata": {},
   "source": [
    "* ***Ejemplo:***"
   ]
  },
  {
   "cell_type": "markdown",
   "metadata": {},
   "source": [
    "En una tienda de mascotas en la CDMX hay $50$ animales: $15$ de estos son perros. Entonces, la proporción de perros respecto al resto de los animales es $15:50$"
   ]
  },
  {
   "cell_type": "markdown",
   "metadata": {},
   "source": [
    "$$ \\dfrac{15}{50}=\\dfrac{3}{10} $$"
   ]
  },
  {
   "cell_type": "markdown",
   "metadata": {},
   "source": [
    "Entonces, la proporción de perros respecto al resto de los animales también es $3:10$."
   ]
  },
  {
   "cell_type": "markdown",
   "metadata": {},
   "source": [
    "Imaginemos que la CDMX exige que la proporción se mantenga. Si metemos otros 30 animales a la tienda de mascotas, ¿cuántos deben ser perros?"
   ]
  },
  {
   "cell_type": "markdown",
   "metadata": {},
   "source": [
    "Utilizando una regla de tres simple encontramos que tienen que ser 9 perros."
   ]
  },
  {
   "cell_type": "markdown",
   "metadata": {},
   "source": [
    "También se puede complicar la fracción:"
   ]
  },
  {
   "cell_type": "markdown",
   "metadata": {},
   "source": [
    "$$ \\dfrac{3}{10}=\\dfrac{9}{30} $$"
   ]
  },
  {
   "cell_type": "markdown",
   "metadata": {},
   "source": [
    "*Si queremos mantener la proporción, cada cantidad debe de crecer igual.*"
   ]
  },
  {
   "cell_type": "markdown",
   "metadata": {},
   "source": [
    "$$\\circledast$$"
   ]
  },
  {
   "cell_type": "markdown",
   "metadata": {},
   "source": [
    "* ***Ejemplo:*** ¿Cuánto debe de valer $x$ si deseamos que se cumpla que $6:5=10:x$?"
   ]
  },
  {
   "cell_type": "markdown",
   "metadata": {},
   "source": [
    "$$ \\dfrac{6}{5}=\\dfrac{10}{x} $$"
   ]
  },
  {
   "cell_type": "markdown",
   "metadata": {},
   "source": [
    "$$ x\\dfrac{6}{5}=10 $$"
   ]
  },
  {
   "cell_type": "markdown",
   "metadata": {},
   "source": [
    "$$ x=\\dfrac{50}{6}=\\dfrac{25}{3}=8.333\\dots $$"
   ]
  },
  {
   "cell_type": "markdown",
   "metadata": {},
   "source": [
    "$$\\circledast$$"
   ]
  },
  {
   "cell_type": "markdown",
   "metadata": {},
   "source": [
    "*Siempre que tengamos una variable en el denominador de una fracción vamos a pasarla del otro lado de la igualdad.*"
   ]
  },
  {
   "cell_type": "markdown",
   "metadata": {},
   "source": [
    "* ***Ejemplo:*** La proporción del pago de Ana respecto del de Beto es de $\\dfrac{5}{4}$. La proporción del pago de Beto respecto del de Carlos es de $10:9$. Si Ana recibe un pago de $\\$7500$, ¿de cuánto es el pago de Carlos? "
   ]
  },
  {
   "cell_type": "markdown",
   "metadata": {},
   "source": [
    "$$ \\dfrac{7500\\cdot4}{5}=6000 $$"
   ]
  },
  {
   "cell_type": "markdown",
   "metadata": {},
   "source": [
    "Beto recibe $\\$6000$."
   ]
  },
  {
   "cell_type": "markdown",
   "metadata": {},
   "source": [
    "$$ \\dfrac{6000\\cdot9}{10}=5400 $$"
   ]
  },
  {
   "cell_type": "markdown",
   "metadata": {},
   "source": [
    "Carlos recibe $\\$5400$."
   ]
  },
  {
   "cell_type": "markdown",
   "metadata": {},
   "source": [
    "$$\\circledast$$"
   ]
  },
  {
   "cell_type": "markdown",
   "metadata": {},
   "source": [
    "## Notación científica"
   ]
  },
  {
   "cell_type": "markdown",
   "metadata": {},
   "source": [
    "**Reglas**\n",
    "* En notación científica buscamos expresar una cifra como un sólo dígito antes del punto y el resto de los dígitos de la cifra después del punto, multiplicados por $10^n$, donde $n$ es el número de veces que tuvimos que mover el punto.\n",
    "* Si tuvimos que mover el punto hacia la izquierda para dejar un solo dígito antes del punto, el exponente será positivo.\n",
    "* Si tuvimos que mover el punto hacia la derecha para dejar un solo dígito antes del punto, el exponente será negativo.\n",
    "* Si al mover el punto quedan ceros en la parte decimal después del último dígito que no es cero, quítamos estos ceros. "
   ]
  },
  {
   "cell_type": "markdown",
   "metadata": {},
   "source": [
    "* ***Ejemplo:***"
   ]
  },
  {
   "cell_type": "markdown",
   "metadata": {},
   "source": [
    "$$170,500,000=1.705\\times10^{8}$$"
   ]
  },
  {
   "cell_type": "markdown",
   "metadata": {},
   "source": [
    "$$\\circledast$$"
   ]
  },
  {
   "cell_type": "markdown",
   "metadata": {},
   "source": [
    "* ***Ejemplo:***"
   ]
  },
  {
   "cell_type": "markdown",
   "metadata": {},
   "source": [
    "$$0.0000003=3\\times10^{-7}$$"
   ]
  },
  {
   "cell_type": "markdown",
   "metadata": {},
   "source": [
    "$$\\circledast$$"
   ]
  },
  {
   "cell_type": "markdown",
   "metadata": {},
   "source": [
    "* ***Ejemplo:***"
   ]
  },
  {
   "cell_type": "markdown",
   "metadata": {},
   "source": [
    "$$2008.903=2.008903\\times10^3$$"
   ]
  },
  {
   "cell_type": "markdown",
   "metadata": {},
   "source": [
    "$$\\circledast$$"
   ]
  },
  {
   "cell_type": "markdown",
   "metadata": {},
   "source": [
    "* ***Ejemplo:***"
   ]
  },
  {
   "cell_type": "markdown",
   "metadata": {},
   "source": [
    "$$0.0005004=5.004\\times10^{-4}=500.4\\times10^{-6}=5004\\times10^{-7}$$"
   ]
  },
  {
   "cell_type": "markdown",
   "metadata": {},
   "source": [
    "$$\\circledast$$"
   ]
  }
 ],
 "metadata": {
  "@webio": {
   "lastCommId": null,
   "lastKernelId": null
  },
  "kernelspec": {
   "display_name": "Julia 1.1.0",
   "language": "julia",
   "name": "julia-1.1"
  },
  "language_info": {
   "file_extension": ".jl",
   "mimetype": "application/julia",
   "name": "julia",
   "version": "1.1.0"
  }
 },
 "nbformat": 4,
 "nbformat_minor": 4
}
