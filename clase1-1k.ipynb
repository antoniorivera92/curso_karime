{
 "cells": [
  {
   "cell_type": "markdown",
   "metadata": {},
   "source": [
    "# Clase 1"
   ]
  },
  {
   "cell_type": "markdown",
   "metadata": {},
   "source": [
    "## Operaciones básicas"
   ]
  },
  {
   "cell_type": "markdown",
   "metadata": {},
   "source": [
    "### Suma o adición ($+$)"
   ]
  },
  {
   "cell_type": "code",
   "execution_count": 1,
   "metadata": {},
   "outputs": [
    {
     "data": {
      "text/plain": [
       "133605"
      ]
     },
     "execution_count": 1,
     "metadata": {},
     "output_type": "execute_result"
    }
   ],
   "source": [
    "47896+83924+1785"
   ]
  },
  {
   "cell_type": "markdown",
   "metadata": {},
   "source": [
    "\\begin{align*}\n",
    "47896&\\\\\n",
    "+\\ 83924&\\\\\n",
    "\\underline{\\phantom{00}1785}&\\\\\n",
    "133605&\n",
    "\\end{align*}"
   ]
  },
  {
   "cell_type": "markdown",
   "metadata": {},
   "source": [
    "### Resta, diferencia o sustracción ($-$)"
   ]
  },
  {
   "cell_type": "code",
   "execution_count": 2,
   "metadata": {},
   "outputs": [
    {
     "data": {
      "text/plain": [
       "753087"
      ]
     },
     "execution_count": 2,
     "metadata": {},
     "output_type": "execute_result"
    }
   ],
   "source": [
    "987654-234567"
   ]
  },
  {
   "cell_type": "markdown",
   "metadata": {},
   "source": [
    "\\begin{align*}\n",
    "987654&\\\\\n",
    "-\\ \\underline{234567}&\\\\\n",
    "753087&\n",
    "\\end{align*}"
   ]
  },
  {
   "cell_type": "markdown",
   "metadata": {},
   "source": [
    "### Multiplicación o producto ($\\times$)"
   ]
  },
  {
   "cell_type": "code",
   "execution_count": 3,
   "metadata": {
    "scrolled": true
   },
   "outputs": [
    {
     "data": {
      "text/plain": [
       "3082065"
      ]
     },
     "execution_count": 3,
     "metadata": {},
     "output_type": "execute_result"
    }
   ],
   "source": [
    "4137*745"
   ]
  },
  {
   "cell_type": "markdown",
   "metadata": {},
   "source": [
    "\\begin{align*}\n",
    "4137&\\\\\n",
    "\\underline{\\times\\ 745}&\\\\\n",
    "20685&\\\\\n",
    "16548\\phantom{0}&\\\\\n",
    "\\underline{28959\\phantom{00}}&\\\\\n",
    "3082065&\n",
    "\\end{align*}"
   ]
  },
  {
   "cell_type": "markdown",
   "metadata": {},
   "source": [
    "### División o cociente ($\\div$)"
   ]
  },
  {
   "cell_type": "markdown",
   "metadata": {},
   "source": [
    "\\begin{align*}\n",
    "\\phantom{120|07}629&\\\\\n",
    "12\\ \\overline{|\\ 7549}&\\\\\n",
    "\\underline{-72}\\phantom{00}&\\\\\n",
    "34\\phantom{0}&\\\\\n",
    "\\underline{-24}\\phantom{0}&\\\\\n",
    "109&\\\\\n",
    "\\underline{-108}&\\\\\n",
    "1\n",
    "\\end{align*}"
   ]
  },
  {
   "cell_type": "markdown",
   "metadata": {},
   "source": [
    "Al número que se encuentra arriba de la \"casita\" se le conoce como ***cociente***; al número que se encuentra a la izquierda de la \"casita\" se le conoce como ***divisor***; al número que se encuentra dentro de la \"casita\" se le conoce como ***dividendo***; al número que se encuentra hasta abajo del proceso de división se le conoce como ***residuo***."
   ]
  },
  {
   "cell_type": "markdown",
   "metadata": {},
   "source": [
    "$$\\dfrac{7549}{12}=629+\\dfrac{1}{12}$$"
   ]
  },
  {
   "cell_type": "markdown",
   "metadata": {},
   "source": [
    "### Potencia"
   ]
  },
  {
   "cell_type": "markdown",
   "metadata": {},
   "source": [
    "$$ 3^4=3\\cdot3\\cdot3\\cdot3=81 $$"
   ]
  },
  {
   "cell_type": "markdown",
   "metadata": {},
   "source": [
    "$$ 5^3=5\\cdot5\\cdot5=125 $$"
   ]
  },
  {
   "cell_type": "markdown",
   "metadata": {},
   "source": [
    "*El resultado de $3$ a la $4$ es equivalente a multiplicar el $3$ por sí mismo $4$ veces.*"
   ]
  },
  {
   "cell_type": "markdown",
   "metadata": {},
   "source": [
    "Al número que se encuentra en la posición del $3$ se le conoce como ***base***; al número que se encuentra arriba, a la derecha del $3$, se le conoce como ***exponente***; el resultado de esta operación se llama ***potencia***."
   ]
  },
  {
   "cell_type": "markdown",
   "metadata": {},
   "source": [
    "*El resultado de una potencia es equivalente a multiplicar la base por sí misma el número del exponente veces.*"
   ]
  },
  {
   "cell_type": "markdown",
   "metadata": {},
   "source": [
    "### Raíz o radicación ($\\sqrt{\\phantom{0}}$)"
   ]
  },
  {
   "cell_type": "markdown",
   "metadata": {},
   "source": [
    "$$ \\sqrt[4]{81}=3 $$"
   ]
  },
  {
   "cell_type": "markdown",
   "metadata": {},
   "source": [
    "$$ \\sqrt[4]{625}=5 $$"
   ]
  },
  {
   "cell_type": "markdown",
   "metadata": {},
   "source": [
    "*El resultado de raíz cuártica de $81$ es equivalente a preguntarse sobre el número que multiplicado por sí mismo $4$ veces es $81$.*"
   ]
  },
  {
   "cell_type": "markdown",
   "metadata": {},
   "source": [
    "Al número que se encuentra arriba de la raíz, el $3$ en el caso anterior, se le conoce como ***radical***."
   ]
  },
  {
   "cell_type": "markdown",
   "metadata": {},
   "source": [
    "$$ \\sqrt[n]{a}=a^{1/n} $$"
   ]
  },
  {
   "cell_type": "markdown",
   "metadata": {},
   "source": [
    "$$ 8^{1/3}=\\sqrt[3]{8} $$"
   ]
  },
  {
   "cell_type": "markdown",
   "metadata": {},
   "source": [
    "$$ 15^{1/4}=\\sqrt[4]{15} $$"
   ]
  },
  {
   "cell_type": "markdown",
   "metadata": {},
   "source": [
    "## Operaciones básicas entre signos"
   ]
  },
  {
   "cell_type": "markdown",
   "metadata": {},
   "source": [
    "\\begin{align*}\n",
    "(+)(+)=(+)\\quad&\\quad(+)\\div(+)=(+)\\\\\n",
    "(-)(-)=(+)\\quad&\\quad(-)\\div(-)=(+)\\\\\n",
    "(+)(-)=(-)\\quad&\\quad(+)\\div(-)=(-)\\\\\n",
    "(-)(+)=(-)\\quad&\\quad(-)\\div(+)=(-)\n",
    "\\end{align*}"
   ]
  },
  {
   "cell_type": "markdown",
   "metadata": {},
   "source": [
    "Entonces, obtenemos el mismo tipo de signo si multiplicamos o dividimos."
   ]
  },
  {
   "cell_type": "markdown",
   "metadata": {},
   "source": [
    "## Operaciones básicas con números positivos y negativos"
   ]
  },
  {
   "cell_type": "markdown",
   "metadata": {},
   "source": [
    "* $1\\rightarrow\\cap$\n",
    "* $0\\rightarrow-$\n",
    "* $-1\\rightarrow\\cup$"
   ]
  },
  {
   "cell_type": "markdown",
   "metadata": {},
   "source": [
    "* ***Ejemplo:***"
   ]
  },
  {
   "cell_type": "markdown",
   "metadata": {},
   "source": [
    "$$ 1+(-1)=0 $$"
   ]
  },
  {
   "cell_type": "markdown",
   "metadata": {},
   "source": [
    "$$ (\\cap)+(\\cup)=- $$"
   ]
  },
  {
   "cell_type": "markdown",
   "metadata": {},
   "source": [
    "* ***Ejemplo:***"
   ]
  },
  {
   "cell_type": "markdown",
   "metadata": {},
   "source": [
    "$$3+4=7$$"
   ]
  },
  {
   "cell_type": "markdown",
   "metadata": {},
   "source": [
    "* ***Ejemplo:***"
   ]
  },
  {
   "cell_type": "markdown",
   "metadata": {},
   "source": [
    "$$3+(-2)=3-2=1$$"
   ]
  },
  {
   "cell_type": "markdown",
   "metadata": {},
   "source": [
    "* ***Ejemplo:***"
   ]
  },
  {
   "cell_type": "markdown",
   "metadata": {},
   "source": [
    "$$3+(-3)=3-3=0 $$"
   ]
  },
  {
   "cell_type": "markdown",
   "metadata": {},
   "source": [
    "* ***Ejemplo:***"
   ]
  },
  {
   "cell_type": "markdown",
   "metadata": {},
   "source": [
    "$$1+(-3)=-2$$"
   ]
  },
  {
   "cell_type": "markdown",
   "metadata": {},
   "source": [
    "* ***Ejemplo:***"
   ]
  },
  {
   "cell_type": "markdown",
   "metadata": {},
   "source": [
    "$$-2+(-3)=-2-3=-5$$"
   ]
  },
  {
   "cell_type": "markdown",
   "metadata": {},
   "source": [
    "* ***Ejemplo:***"
   ]
  },
  {
   "cell_type": "markdown",
   "metadata": {},
   "source": [
    "$$4+(-7)=-3 $$"
   ]
  },
  {
   "cell_type": "markdown",
   "metadata": {},
   "source": [
    "*Siempre que un número no tenga el signo explícitamente, se entiende que es positivo de manera implícita.*"
   ]
  },
  {
   "cell_type": "markdown",
   "metadata": {},
   "source": [
    "* ***Ejemplo:***"
   ]
  },
  {
   "cell_type": "markdown",
   "metadata": {},
   "source": [
    "$$-4+(-7)=-11 $$"
   ]
  },
  {
   "cell_type": "markdown",
   "metadata": {},
   "source": [
    "## Operaciones básicas con fracciones"
   ]
  },
  {
   "cell_type": "markdown",
   "metadata": {},
   "source": [
    "\\begin{equation*}\n",
    "\\dfrac{a}{b}\\ {{\\leftarrow\\ \\text{numerador}\\phantom{or}}\\atop{\\leftarrow\\ \\text{denominador}}}\n",
    "\\end{equation*}"
   ]
  },
  {
   "cell_type": "markdown",
   "metadata": {},
   "source": [
    "* ***denominador*** porque denomina en cuántas partes partimos el pastel\n",
    "* ***numerador*** porque denomina cuántas partes tomamos (nos vamos a comer)."
   ]
  },
  {
   "cell_type": "markdown",
   "metadata": {},
   "source": [
    "### Simplificación y complicación de fracciones"
   ]
  },
  {
   "cell_type": "markdown",
   "metadata": {},
   "source": [
    "Una fracción es igual a otra si se multiplica el numerador y el denominador por un mismo número."
   ]
  },
  {
   "cell_type": "markdown",
   "metadata": {},
   "source": [
    "* ***Ejemplo:***"
   ]
  },
  {
   "cell_type": "markdown",
   "metadata": {},
   "source": [
    "$$ \\dfrac{2}{9}=\\dfrac{8}{36} $$"
   ]
  },
  {
   "cell_type": "markdown",
   "metadata": {},
   "source": [
    "Una fracción es igual a otra si se divide el numerador y el denominador por un mismo número."
   ]
  },
  {
   "cell_type": "markdown",
   "metadata": {},
   "source": [
    "* ***Ejemplo:***"
   ]
  },
  {
   "cell_type": "markdown",
   "metadata": {},
   "source": [
    "$$ \\dfrac{144}{256}=\\dfrac{72}{128}=\\dfrac{36}{64}=\\dfrac{9}{16} $$"
   ]
  },
  {
   "cell_type": "markdown",
   "metadata": {},
   "source": [
    "* ***Ejemplo:***"
   ]
  },
  {
   "cell_type": "markdown",
   "metadata": {},
   "source": [
    "$$ \\dfrac{140}{98}=\\dfrac{70}{49}=\\dfrac{10}{7} $$"
   ]
  },
  {
   "cell_type": "markdown",
   "metadata": {},
   "source": [
    "* ***Ejemplo:***"
   ]
  },
  {
   "cell_type": "markdown",
   "metadata": {},
   "source": [
    "$$ \\dfrac{10}{7}=\\dfrac{10\\cdot14}{7\\cdot14}=\\dfrac{140}{98} $$"
   ]
  },
  {
   "cell_type": "markdown",
   "metadata": {},
   "source": [
    "### Suma o adición ($+$)"
   ]
  },
  {
   "cell_type": "markdown",
   "metadata": {},
   "source": [
    "$$ \\dfrac{a}{b}+\\dfrac{c}{d}=\\dfrac{ad+bc}{bd} $$"
   ]
  },
  {
   "cell_type": "markdown",
   "metadata": {},
   "source": [
    "**Nota importante:** para poder sumar o restar los numeradores de dos fracciones directamente, es necesario que tengan el mismo denominador."
   ]
  },
  {
   "cell_type": "markdown",
   "metadata": {},
   "source": [
    "Si quieren ver otra forma de hacer suma de fracciones, les recominendo revisar este vídeo corto:\n",
    "\n",
    "https://youtu.be/MQFTAGdVWjo"
   ]
  },
  {
   "cell_type": "markdown",
   "metadata": {},
   "source": [
    "* ***Ejemplo:***"
   ]
  },
  {
   "cell_type": "markdown",
   "metadata": {},
   "source": [
    "$$ \\dfrac{2}{7}+\\dfrac{4}{7}=\\dfrac{2+4}{7}=\\dfrac{6}{7} $$"
   ]
  },
  {
   "cell_type": "markdown",
   "metadata": {},
   "source": [
    "* ***Ejemplo:***"
   ]
  },
  {
   "cell_type": "markdown",
   "metadata": {},
   "source": [
    "$$ \\dfrac{3}{5}+\\dfrac{1}{2}=\\dfrac{3\\cdot2+5\\cdot1}{5\\cdot2}=\\dfrac{11}{10} $$"
   ]
  },
  {
   "cell_type": "markdown",
   "metadata": {},
   "source": [
    "* ***Ejemplo:***"
   ]
  },
  {
   "cell_type": "markdown",
   "metadata": {},
   "source": [
    "$$ \\dfrac{9}{7}+\\dfrac{8}{11}=\\dfrac{99+56}{77}=\\dfrac{155}{77} $$"
   ]
  },
  {
   "cell_type": "markdown",
   "metadata": {},
   "source": [
    "### Resta, diferencia o sustracción ($-$)"
   ]
  },
  {
   "cell_type": "markdown",
   "metadata": {},
   "source": [
    "$$ \\dfrac{a}{b}+\\left(-\\dfrac{c}{d}\\right)=\\dfrac{ad-bc}{bd} $$"
   ]
  },
  {
   "cell_type": "markdown",
   "metadata": {},
   "source": [
    "Si quieren ver otra forma de hacer resta de fracciones, les recomiendo revisar este vídeo corto:\n",
    "\n",
    "https://youtu.be/_-piXiAuRT8"
   ]
  },
  {
   "cell_type": "markdown",
   "metadata": {},
   "source": [
    "* ***Ejemplo:***"
   ]
  },
  {
   "cell_type": "markdown",
   "metadata": {},
   "source": [
    "$$ \\dfrac{3}{5}-\\dfrac{1}{2}=\\dfrac{3\\cdot2-5\\cdot1}{5\\cdot2}=\\dfrac{1}{10} $$"
   ]
  },
  {
   "cell_type": "markdown",
   "metadata": {},
   "source": [
    "* ***Ejemplo:***"
   ]
  },
  {
   "cell_type": "markdown",
   "metadata": {},
   "source": [
    "$$ \\dfrac{9}{7}-\\dfrac{8}{11}=\\dfrac{99-56}{77}=\\dfrac{43}{77} $$"
   ]
  },
  {
   "cell_type": "markdown",
   "metadata": {},
   "source": [
    "* ***Ejemplo:***"
   ]
  },
  {
   "cell_type": "markdown",
   "metadata": {},
   "source": [
    "$$ \\dfrac{1}{2}-\\dfrac{2}{3}=\\dfrac{3-4}{6}=\\dfrac{-1}{6}=-\\dfrac{1}{6} $$"
   ]
  },
  {
   "cell_type": "markdown",
   "metadata": {},
   "source": [
    "* ***Ejemplo:***"
   ]
  },
  {
   "cell_type": "markdown",
   "metadata": {},
   "source": [
    "$$ -\\dfrac{3}{7}+\\dfrac{1}{9}=\\dfrac{-20}{63}=-\\dfrac{20}{63} $$"
   ]
  },
  {
   "cell_type": "markdown",
   "metadata": {},
   "source": [
    "* ***Ejemplo:***"
   ]
  },
  {
   "cell_type": "markdown",
   "metadata": {},
   "source": [
    "$$ -\\dfrac{3}{4}-\\dfrac{5}{8}=\\dfrac{-44}{32}=-\\dfrac{44}{32}=-\\dfrac{22}{16}=-\\dfrac{11}{8} $$"
   ]
  },
  {
   "cell_type": "markdown",
   "metadata": {},
   "source": [
    "1. Siempre que tengas signos iguales, suma los números.\n",
    "2. Después, agrega el signo al resultado final."
   ]
  },
  {
   "cell_type": "markdown",
   "metadata": {},
   "source": [
    "### Multiplicación o producto ($\\times$)"
   ]
  },
  {
   "cell_type": "markdown",
   "metadata": {},
   "source": [
    "Esto es directo: el resultado el producto de los numeradores en el numerador y el producto de los denominadores en el denominador."
   ]
  },
  {
   "cell_type": "markdown",
   "metadata": {},
   "source": [
    "$$ \\dfrac{a}{b}\\cdot\\dfrac{c}{d}=\\dfrac{ac}{bd} $$"
   ]
  },
  {
   "cell_type": "markdown",
   "metadata": {},
   "source": [
    "Si quieren ver otra forma de hacer resta de fracciones, les recomiendo revisar este vídeo corto:\n",
    "\n",
    "https://youtu.be/_-piXiAuRT8"
   ]
  },
  {
   "cell_type": "markdown",
   "metadata": {},
   "source": [
    "* ***Ejemplo:***"
   ]
  },
  {
   "cell_type": "markdown",
   "metadata": {},
   "source": [
    "$$ \\dfrac{3}{5}\\cdot\\dfrac{10}{81}=$$"
   ]
  },
  {
   "cell_type": "markdown",
   "metadata": {},
   "source": [
    "### División o cociente ($\\div$)"
   ]
  },
  {
   "cell_type": "markdown",
   "metadata": {},
   "source": [
    "$$ \\dfrac{a}{b}\\div\\dfrac{c}{d}=\\dfrac{\\dfrac{a}{b}}{\\dfrac{c}{d}}=\\dfrac{ad}{bc} $$"
   ]
  },
  {
   "cell_type": "markdown",
   "metadata": {},
   "source": [
    "$$ \\dfrac{a}{b}\\div\\dfrac{c}{d}=\\dfrac{a}{b}\\cdot\\dfrac{d}{c}=\\dfrac{ad}{bc} $$"
   ]
  },
  {
   "cell_type": "markdown",
   "metadata": {},
   "source": [
    "Si quieren ver otra forma de hacer división de fracciones, les recomiendo revisar este vídeo corto:\n",
    "\n",
    "https://youtu.be/o4xoVTKRpgo"
   ]
  }
 ],
 "metadata": {
  "kernelspec": {
   "display_name": "Julia 1.1.0",
   "language": "julia",
   "name": "julia-1.1"
  },
  "language_info": {
   "file_extension": ".jl",
   "mimetype": "application/julia",
   "name": "julia",
   "version": "1.1.0"
  }
 },
 "nbformat": 4,
 "nbformat_minor": 4
}
