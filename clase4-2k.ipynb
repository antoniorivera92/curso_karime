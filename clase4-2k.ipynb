{
 "cells": [
  {
   "cell_type": "markdown",
   "metadata": {},
   "source": [
    "# Razonamiento geométrico"
   ]
  },
  {
   "cell_type": "markdown",
   "metadata": {},
   "source": [
    "# Clase 2"
   ]
  },
  {
   "cell_type": "markdown",
   "metadata": {},
   "source": [
    "## Puntos que dividen segmentos"
   ]
  },
  {
   "cell_type": "markdown",
   "metadata": {},
   "source": [
    "### Punto medio"
   ]
  },
  {
   "cell_type": "markdown",
   "metadata": {},
   "source": [
    "Si tenemos dos puntos, $P_1(x_1,y_1)$ y $P_2(x_2,y_2)$, el punto medio $M(x_0,y_0)$ tiene coordenadas"
   ]
  },
  {
   "cell_type": "markdown",
   "metadata": {},
   "source": [
    "$$x_0=\\dfrac{x_1+x_2}{2}$$"
   ]
  },
  {
   "cell_type": "markdown",
   "metadata": {},
   "source": [
    "$$y_0=\\dfrac{y_1+y_2}{2}$$"
   ]
  },
  {
   "cell_type": "markdown",
   "metadata": {},
   "source": [
    "### Razón"
   ]
  },
  {
   "cell_type": "markdown",
   "metadata": {},
   "source": [
    "Nuevamente tenemos dos puntos, $P_1(x_1,y_1)$ y $P_2(x_2,y_2)$. Imaginemos un tercer punto, $R(x_0,y_0)$, entre estos dos puntos. Llamaremos *razón* al valor de la fracción \n",
    "\n",
    "$$r=\\dfrac{\\overline{P_1R}}{\\overline{P_2R}}$$"
   ]
  },
  {
   "cell_type": "markdown",
   "metadata": {},
   "source": [
    "* ***Ejemplo:*** Tenemos los puntos $A(1,1)$, $B(3, 3)$, $C(7,7)$. ¿Cuál es el valor de la razón\n",
    "$$\\dfrac{\\overline{AB}}{\\overline{BC}}?$$"
   ]
  },
  {
   "cell_type": "markdown",
   "metadata": {},
   "source": [
    "$$ \\overline{AB}=\\sqrt{(1-3)^2+(1-3)^2}=\\sqrt{8} $$"
   ]
  },
  {
   "cell_type": "markdown",
   "metadata": {},
   "source": [
    "$$ \\overline{BC}=\\sqrt{(3-7)^2+(3-7)^2}=\\sqrt{32} $$"
   ]
  },
  {
   "cell_type": "markdown",
   "metadata": {},
   "source": [
    "$$ r=\\dfrac{\\overline{AB}}{\\overline{BC}}=\\dfrac{\\sqrt{8}}{\\sqrt{32}}=\\dfrac{1}{2} $$"
   ]
  },
  {
   "cell_type": "markdown",
   "metadata": {},
   "source": [
    "$$ \\circledast $$"
   ]
  },
  {
   "cell_type": "markdown",
   "metadata": {},
   "source": [
    "Nuevamente tenemos dos puntos, $P_1(x_1,y_1)$ y $P_2(x_2,y_2)$. Llamaremos *razón* a una cantidad escrita como fracción $r=\\dfrac{a}{b}.$ Esta fracción nos dice que el  segmento $\\overline{P_1P_2}$ se tiene que dividir en $a+b$ partes."
   ]
  },
  {
   "cell_type": "markdown",
   "metadata": {},
   "source": [
    "Entonces, el punto $R(x_0,y_0)$ que aparece en esa razón dada, tiene coordenadas"
   ]
  },
  {
   "cell_type": "markdown",
   "metadata": {},
   "source": [
    "$$x_0=\\dfrac{x_1+rx_2}{1+r}$$"
   ]
  },
  {
   "cell_type": "markdown",
   "metadata": {},
   "source": [
    "$$y_0=\\dfrac{y_1+ry_2}{1+r}$$"
   ]
  },
  {
   "cell_type": "markdown",
   "metadata": {},
   "source": [
    "El punto $R(x_0,y_0)$ es tal que $\\overline{P_1R}$ representa $\\dfrac{a}{a+b}$ del segmento $\\overline{P_1P_2}$."
   ]
  },
  {
   "cell_type": "markdown",
   "metadata": {},
   "source": [
    "El punto $R(x_0,y_0)$ es tal que $\\overline{P_2R}$ representa $\\dfrac{b}{a+b}$ del segmento $\\overline{P_1P_2}$."
   ]
  },
  {
   "cell_type": "markdown",
   "metadata": {},
   "source": [
    "* ***Ejemplo:*** Tenemos los puntos $A(-2,4)$ y $B(4, -8)$. Encuentra el punto que divide al segmento con la razón $r=2$."
   ]
  },
  {
   "cell_type": "markdown",
   "metadata": {},
   "source": [
    "$$x_0=\\dfrac{x_1+rx_2}{1+r}=\\dfrac{(-2)+2(4)}{1+2}=\\dfrac{6}{3}=2$$"
   ]
  },
  {
   "cell_type": "markdown",
   "metadata": {},
   "source": [
    "$$y_0=\\dfrac{y_1+ry_2}{1+r}=\\dfrac{(4)+2(-8)}{1+2}=\\dfrac{-12}{3}=-4$$"
   ]
  },
  {
   "cell_type": "markdown",
   "metadata": {},
   "source": [
    "La razón es $r=\\dfrac{a}{b}$, con $a=2$ y $b=1$"
   ]
  },
  {
   "cell_type": "markdown",
   "metadata": {},
   "source": [
    "El punto $C(2,-4)$ es tal que $\\overline{AC}$ representa $\\dfrac{2}{3}$ del segmento $\\overline{BC}$."
   ]
  },
  {
   "cell_type": "markdown",
   "metadata": {},
   "source": [
    "El punto $C(2,-4)$ es tal que $\\overline{BC}$ representa $\\dfrac{1}{3}$ del segmento $\\overline{AB}$."
   ]
  },
  {
   "cell_type": "markdown",
   "metadata": {},
   "source": [
    "$$\\circledast$$"
   ]
  },
  {
   "cell_type": "markdown",
   "metadata": {},
   "source": [
    "### ¿Cómo partir un segmento en $n$ partes?"
   ]
  },
  {
   "cell_type": "markdown",
   "metadata": {},
   "source": [
    "1. Necesitamos tener las coordenadas de los extremos: $P_1(x_1,y_1)$ y $P_2(x_2,y_2)$.\n",
    "2. Buscaremos dos números enteros positivos cuya suma sea el número de partes en que queremos dividir el segmento.\n",
    "3. Los números los dividimos entre sí, obteniendo la razón $r$. Tenemos que obtener $n-1$ razones.\n",
    "4. Con las fórmulas\n",
    "\\begin{align*}\n",
    "x=\\dfrac{x_1+rx_2}{1+r}\\\\\n",
    "y=\\dfrac{y_1+ry_2}{1+r}\n",
    "\\end{align*}\n",
    "    obtenemos las coordenadas para cada razón."
   ]
  },
  {
   "cell_type": "markdown",
   "metadata": {},
   "source": [
    "* ***Ejemplo:*** Si tuviéramos los puntos $A(1,1)$ y $B(5,9)$, ¿cómo partimos esto en tres partes?"
   ]
  },
  {
   "cell_type": "markdown",
   "metadata": {},
   "source": [
    "* $a=1$, $b=2$, $r=\\dfrac{a}{b}=\\dfrac{1}{2}$"
   ]
  },
  {
   "cell_type": "markdown",
   "metadata": {},
   "source": [
    "$$x_0=\\dfrac{x_1+rx_2}{1+r}=\\dfrac{(1)+\\dfrac{1}{2}(5)}{1+\\dfrac{1}{2}}=\\dfrac{7}{3} $$"
   ]
  },
  {
   "cell_type": "markdown",
   "metadata": {},
   "source": [
    "$$y_0=\\dfrac{y_1+ry_2}{1+r}=\\dfrac{(1)+\\dfrac{1}{2}(9)}{1+\\dfrac{1}{2}}=\\dfrac{11}{3} $$"
   ]
  },
  {
   "cell_type": "markdown",
   "metadata": {},
   "source": [
    "Entonces, el punto es $C\\left(\\dfrac{7}{3},\\dfrac{11}{3}\\right)$"
   ]
  },
  {
   "cell_type": "markdown",
   "metadata": {},
   "source": [
    "* $a=2$, $b=1$, $r=\\dfrac{a}{b}=\\dfrac{2}{1}=2$"
   ]
  },
  {
   "cell_type": "markdown",
   "metadata": {},
   "source": [
    "$$x_0=\\dfrac{x_1+rx_2}{1+r}=\\dfrac{(1)+2(5)}{1+2}=\\dfrac{11}{3} $$"
   ]
  },
  {
   "cell_type": "markdown",
   "metadata": {},
   "source": [
    "$$y_0=\\dfrac{y_1+ry_2}{1+r}=\\dfrac{(1)+2(9)}{1+2}=\\dfrac{19}{3} $$"
   ]
  },
  {
   "cell_type": "markdown",
   "metadata": {},
   "source": [
    "Entonces, el punto es $D\\left(\\dfrac{11}{3},\\dfrac{19}{3}\\right)$"
   ]
  },
  {
   "cell_type": "markdown",
   "metadata": {},
   "source": [
    "$$\\circledast$$"
   ]
  },
  {
   "cell_type": "markdown",
   "metadata": {},
   "source": [
    "# Tarea moral"
   ]
  },
  {
   "cell_type": "markdown",
   "metadata": {},
   "source": [
    "* ***Ejemplo:*** Hallar el punto medio y los puntos que dividen en $4$ partes al segmento cuyos extremos son los puntos $A(-2,3)$ y $B(6,-3)$."
   ]
  },
  {
   "cell_type": "markdown",
   "metadata": {},
   "source": [
    "$$\\circledast$$"
   ]
  },
  {
   "cell_type": "markdown",
   "metadata": {},
   "source": [
    "## Lugar geométrico"
   ]
  },
  {
   "cell_type": "markdown",
   "metadata": {},
   "source": [
    "*Conjunto de puntos en el plano cartesiano que cumplen cierta condición.*"
   ]
  },
  {
   "cell_type": "markdown",
   "metadata": {},
   "source": [
    "* $y=0$ : Todos los puntos $(x,y)$ tales que la ordenada vale cero."
   ]
  },
  {
   "cell_type": "markdown",
   "metadata": {},
   "source": [
    "* $x=-3$ : Todos los puntos $(x,y)$ tales que la abscisa vale tres negativo."
   ]
  },
  {
   "cell_type": "markdown",
   "metadata": {},
   "source": [
    "* $x=y$ : Todos los puntos $(x,y)$ tales que su abscisa y ordenada coinciden."
   ]
  },
  {
   "cell_type": "markdown",
   "metadata": {},
   "source": [
    "* $\\sqrt{(x-1)^2+(y+2)^2}=2$ : Todos los puntos $(x,y)$ que se encuentran a una distancia de $2$ del punto $(1,-2)$."
   ]
  },
  {
   "cell_type": "markdown",
   "metadata": {},
   "source": [
    "## Ecuación de la recta"
   ]
  },
  {
   "cell_type": "markdown",
   "metadata": {},
   "source": [
    "### Forma ordenada-pendiente de la ecuación de la recta"
   ]
  },
  {
   "cell_type": "markdown",
   "metadata": {},
   "source": [
    "La ecuación de la recta tiene la forma:"
   ]
  },
  {
   "cell_type": "markdown",
   "metadata": {},
   "source": [
    "$$ y=mx+b $$"
   ]
  },
  {
   "cell_type": "markdown",
   "metadata": {},
   "source": [
    "* $m$ : pendiente\n",
    "* $b$ : ordenada al origen (el valor en el cual la recta corta el eje $y$)"
   ]
  },
  {
   "cell_type": "markdown",
   "metadata": {},
   "source": [
    "### Graficar una recta mediante tabulación"
   ]
  },
  {
   "cell_type": "markdown",
   "metadata": {},
   "source": [
    "* ***Ejemplo:*** Tenemos la ecuación de la recta:"
   ]
  },
  {
   "cell_type": "markdown",
   "metadata": {},
   "source": [
    "$$ y=2x+1 $$"
   ]
  },
  {
   "cell_type": "markdown",
   "metadata": {},
   "source": [
    "| $x$  | $y$ |\n",
    "|------|-----|\n",
    "| $-3$ |$-5 $ |\n",
    "| $-2$ |$-3 $ |\n",
    "| $-1$ |$-1 $ |\n",
    "| $0$  |$1 $  |\n",
    "| $1$  |$3 $  |\n",
    "| $2$  |$5 $  |\n",
    "| $3$  |$7 $  |"
   ]
  },
  {
   "cell_type": "markdown",
   "metadata": {},
   "source": [
    "Cuando $x=-3$\n",
    "$$ y=2(-3)+1=-5 $$"
   ]
  },
  {
   "cell_type": "markdown",
   "metadata": {},
   "source": [
    "$$\\circledast$$"
   ]
  },
  {
   "cell_type": "markdown",
   "metadata": {},
   "source": [
    "### ¿Qué significa que un punto pertenezca a una recta?"
   ]
  },
  {
   "cell_type": "markdown",
   "metadata": {},
   "source": [
    "Un punto $P(x_0,y_0)$ pertenece a una recta\n",
    "\n",
    "$$ y=mx+b $$\n",
    "\n",
    "si al reemplazar $x_0$ en la ecuación de la recta, obtenemos $y_0$:\n",
    "\n",
    "$$ y=mx_0+b=y_0 $$"
   ]
  },
  {
   "cell_type": "markdown",
   "metadata": {},
   "source": [
    "Si dos o más puntos están sobre una recta, los puntos son colineales."
   ]
  },
  {
   "cell_type": "markdown",
   "metadata": {},
   "source": [
    "* ***Ejemplo:*** ¿$P(1,7)$ pertenece a la recta $y=3x+4$?"
   ]
  },
  {
   "cell_type": "markdown",
   "metadata": {},
   "source": [
    "$$ y=3x+4 $$"
   ]
  },
  {
   "cell_type": "markdown",
   "metadata": {},
   "source": [
    "$$ y=3(1)+4=7 $$"
   ]
  },
  {
   "cell_type": "markdown",
   "metadata": {},
   "source": [
    "Como obtuve la ordenada del punto al sustituir la abscisa en la ecuación de la recta, el punto **SÍ** pertenece a la recta."
   ]
  },
  {
   "cell_type": "markdown",
   "metadata": {},
   "source": [
    "$$ \\circledast $$"
   ]
  },
  {
   "cell_type": "markdown",
   "metadata": {},
   "source": [
    "* ***Ejemplo:*** ¿$Q(-1,4)$ pertenece a la recta $y=3x+4$?"
   ]
  },
  {
   "cell_type": "markdown",
   "metadata": {},
   "source": [
    "$$ y=3x+4 $$"
   ]
  },
  {
   "cell_type": "markdown",
   "metadata": {},
   "source": [
    "$$ y=3x+4=3(-1)+4=1\\neq 4$$"
   ]
  },
  {
   "cell_type": "markdown",
   "metadata": {},
   "source": [
    "Como no obtuve la ordenada del punto al sustituir la abscisa en la ecuación de la recta, el punto **NO** pertenece a la recta."
   ]
  },
  {
   "cell_type": "markdown",
   "metadata": {},
   "source": [
    "$$ \\circledast $$"
   ]
  },
  {
   "cell_type": "markdown",
   "metadata": {},
   "source": [
    "### Pendiente"
   ]
  },
  {
   "cell_type": "markdown",
   "metadata": {},
   "source": [
    "Si tenemos dos puntos $A(-1,3)$ y $B(3,-3)$, hay una sola recta que pasa por ambos puntos. Esta recta tiene una cierta inclinación. Dicha inclinación se mantiene a lo largo de toda la recta."
   ]
  },
  {
   "cell_type": "markdown",
   "metadata": {},
   "source": [
    "**¿Cómo obtenemos la inclinación?**"
   ]
  },
  {
   "cell_type": "markdown",
   "metadata": {},
   "source": [
    "Definimos la *pendiente* como"
   ]
  },
  {
   "cell_type": "markdown",
   "metadata": {},
   "source": [
    "$$ m=\\frac{y_2-y_1}{x_2-x_1} $$"
   ]
  },
  {
   "cell_type": "markdown",
   "metadata": {},
   "source": [
    "* ***Ejemplo:*** Si tenemos los puntos $A(-1,3)$ y $B(3,-3)$, obtén la pendiente."
   ]
  },
  {
   "cell_type": "markdown",
   "metadata": {},
   "source": [
    "$$ m=\\frac{y_2-y_1}{x_2-x_1} $$"
   ]
  },
  {
   "cell_type": "markdown",
   "metadata": {},
   "source": [
    "$$ =\\frac{(-3)-(3)}{(3)-(-1)} $$"
   ]
  },
  {
   "cell_type": "markdown",
   "metadata": {},
   "source": [
    "$$ =\\frac{-6}{4}=-\\dfrac{3}{2} $$"
   ]
  },
  {
   "cell_type": "markdown",
   "metadata": {},
   "source": [
    "$$ \\circledast $$"
   ]
  },
  {
   "cell_type": "markdown",
   "metadata": {},
   "source": [
    "**¿Qué significa la pendiente?**"
   ]
  },
  {
   "cell_type": "markdown",
   "metadata": {},
   "source": [
    "Si avanzamos una unidad en el eje horizontal, tendremos que avanzar $m$ unidades en el eje vertical."
   ]
  },
  {
   "cell_type": "markdown",
   "metadata": {},
   "source": [
    "Si la pendiente es positiva, vamos de subida; si la pendiente es negativa, vamos de bajada."
   ]
  },
  {
   "cell_type": "markdown",
   "metadata": {},
   "source": [
    "El coeficiente que acompaña a $x$ en la ecuación de una recta es la pendiente."
   ]
  }
 ],
 "metadata": {
  "kernelspec": {
   "display_name": "Julia 1.5.0",
   "language": "julia",
   "name": "julia-1.5"
  },
  "language_info": {
   "file_extension": ".jl",
   "mimetype": "application/julia",
   "name": "julia",
   "version": "1.5.0"
  }
 },
 "nbformat": 4,
 "nbformat_minor": 4
}
