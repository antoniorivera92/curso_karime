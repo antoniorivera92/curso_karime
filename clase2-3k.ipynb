{
 "cells": [
  {
   "cell_type": "markdown",
   "metadata": {},
   "source": [
    "# Clase 3"
   ]
  },
  {
   "cell_type": "markdown",
   "metadata": {},
   "source": [
    "# Razonamiento algebraico"
   ]
  },
  {
   "cell_type": "markdown",
   "metadata": {},
   "source": [
    "## Productos notables"
   ]
  },
  {
   "cell_type": "markdown",
   "metadata": {},
   "source": [
    "### Binomio al cubo"
   ]
  },
  {
   "cell_type": "markdown",
   "metadata": {},
   "source": [
    "$$ (x+y)^3=x^3+3x^2y+3xy^2+y^3 $$"
   ]
  },
  {
   "cell_type": "markdown",
   "metadata": {},
   "source": [
    "*El resultado del binomio al cubo es el cuatrinomio al cubo perfecto y es el cubo del primer término más el triple del cuadrado del primer término por el segundo término más el triple del primer término por el cuadrado del segundo término más el cubo del segundo término.*"
   ]
  },
  {
   "cell_type": "markdown",
   "metadata": {},
   "source": [
    "* ***Ejemplo:***"
   ]
  },
  {
   "cell_type": "markdown",
   "metadata": {},
   "source": [
    "$$ \\left(\\dfrac{3}{10}a^{3/4}x^7y^2+\\dfrac{144}{9}a^{-5}x^{5/2}y\\right)^3 $$"
   ]
  },
  {
   "cell_type": "markdown",
   "metadata": {},
   "source": [
    "$$ =\\left(\\dfrac{3}{10}a^{3/4}x^7y^2\\right)^3+3\\left(\\dfrac{3}{10}a^{3/4}x^7y^2\\right)^2\\left(\\dfrac{144}{9}a^{-5}x^{5/2}y\\right)+3\\left(\\dfrac{3}{10}a^{3/4}x^7y^2\\right)\\left(\\dfrac{144}{9}a^{-5}x^{5/2}y\\right)^2+\\left(\\dfrac{144}{9}a^{-5}x^{5/2}y\\right)^3 $$"
   ]
  },
  {
   "cell_type": "markdown",
   "metadata": {},
   "source": [
    "$$ =\\left(\\dfrac{3}{10}\\right)^3\\left(a^{3/4}\\right)^3\\left(x^7\\right)^3\\left(y^2\\right)^3+3\\left(\\dfrac{3}{10}\\right)^2\\left(a^{3/4}\\right)^2\\left(x^7\\right)^2\\left(y^2\\right)^2\\left(16a^{-5}x^{5/2}y\\right)+3\\left(\\dfrac{3}{10}a^{3/4}x^7y^2\\right)\\left(16\\right)^2\\left(a^{-5}\\right)^2\\left(x^{5/2}\\right)^2\\left(y\\right)^2+\\left(16\\right)^3\\left(a^{-5}\\right)^3\\left(x^{5/2}\\right)^3\\left(y\\right)^3 $$"
   ]
  },
  {
   "cell_type": "markdown",
   "metadata": {},
   "source": [
    "$$ =\\left(\\dfrac{3}{10}\\right)^3\\left(a^{3/4}\\right)^3\\left(x^7\\right)^3\\left(y^2\\right)^3+3\\left(\\dfrac{3}{10}\\right)^2(16)\\left(a^{3/4}\\right)^2\\left(a^{-5}\\right)\\left(x^7\\right)^2\\left(x^{5/2}\\right)\\left(y^2\\right)^2\\left(y\\right)+3\\left(\\dfrac{3}{10}\\right)\\left(16\\right)^2\\left(a^{3/4}\\right)\\left(a^{-5}\\right)^2\\left(x^7\\right)\\left(x^{5/2}\\right)^2\\left(y^2\\right)\\left(y\\right)^2+\\left(16\\right)^3\\left(a^{-5}\\right)^3\\left(x^{5/2}\\right)^3\\left(y\\right)^3 $$"
   ]
  },
  {
   "cell_type": "markdown",
   "metadata": {},
   "source": [
    "$$ =\\dfrac{27}{1000}a^{9/4}x^{21}y^6+\\dfrac{108}{25}a^{-7/2}x^{33/2}y^5+\\dfrac{1152}{5}a^{-37/4}x^{12}y^4+4096a^{-15}x^{15/2}y^3 $$"
   ]
  },
  {
   "cell_type": "markdown",
   "metadata": {},
   "source": [
    "$$\\circledast$$"
   ]
  },
  {
   "cell_type": "markdown",
   "metadata": {},
   "source": [
    "## Factorización"
   ]
  },
  {
   "cell_type": "markdown",
   "metadata": {},
   "source": [
    "*Factorización* significa poder escribir una expresión algebraica en términos de factores que se multiplican entre sí."
   ]
  },
  {
   "cell_type": "markdown",
   "metadata": {},
   "source": [
    "Recordemos que habíamos hablado antes de productos notables:\n",
    "* Binomio al cuadrado \n",
    "* Diferencia de cuadrados o binomio conjugado"
   ]
  },
  {
   "cell_type": "markdown",
   "metadata": {},
   "source": [
    "* ***Ejemplo:***"
   ]
  },
  {
   "cell_type": "markdown",
   "metadata": {},
   "source": [
    "$$ 4x^2-49 $$"
   ]
  },
  {
   "cell_type": "markdown",
   "metadata": {},
   "source": [
    "Notamos que la expresión anterior sólo se trata de dos términos que se están restando. Inmediatamente pensamos en diferencia de cuadrados:\n",
    "* $4x^2$ proviene de $(2x)^2$\n",
    "* $49$ proviene de $7^2$"
   ]
  },
  {
   "cell_type": "markdown",
   "metadata": {},
   "source": [
    "Entonces, creemos que su factorización es"
   ]
  },
  {
   "cell_type": "markdown",
   "metadata": {},
   "source": [
    "$$ 4x^2-49=(2x)^2-7^2=(2x+7)(2x-7) $$"
   ]
  },
  {
   "cell_type": "markdown",
   "metadata": {},
   "source": [
    "Si hacemos esta operación vemos que es correcto y hemos encontrado los factores (o sea, los binomios) que multiplicados dan la expresión algebraica."
   ]
  },
  {
   "cell_type": "markdown",
   "metadata": {},
   "source": [
    "* ***Ejemplo:***"
   ]
  },
  {
   "cell_type": "markdown",
   "metadata": {},
   "source": [
    "$$ 9x^2-6x+1 $$"
   ]
  },
  {
   "cell_type": "markdown",
   "metadata": {},
   "source": [
    "Notamos que la expresión anterior tiene tres términos. Los términos  elevados al cuadrado:\n",
    "* $9x^2$ proviene de $(3x)^2$\n",
    "* $1$ proviene de $1^2$\n",
    "\n",
    "Como hay un término en medio que es negativo y es el doble $(3x)(-1)$, nos da la idea de que se trata de un binomio al cuadrado."
   ]
  },
  {
   "cell_type": "markdown",
   "metadata": {},
   "source": [
    "Entonces, creemos que la factorización es"
   ]
  },
  {
   "cell_type": "markdown",
   "metadata": {},
   "source": [
    "$$ 9x^2-6x+1=(3x-1)^2=(3x-1)(3x-1) $$"
   ]
  },
  {
   "cell_type": "markdown",
   "metadata": {},
   "source": [
    "Si hacemos esta operación vemos que es correcto y hemos encontrado los factores de la expresión algebraica."
   ]
  },
  {
   "cell_type": "markdown",
   "metadata": {},
   "source": [
    "**¿Cómo hacemos una fractorización de algo que NO sea diferencia de cuadrados ni binomio al cuadrado?**"
   ]
  },
  {
   "cell_type": "markdown",
   "metadata": {},
   "source": [
    "* ***Ejemplo:***"
   ]
  },
  {
   "cell_type": "markdown",
   "metadata": {},
   "source": [
    "$$x^2+7x+10$$"
   ]
  },
  {
   "cell_type": "markdown",
   "metadata": {},
   "source": [
    "$$=x^2+(2+5)x+2\\cdot5$$"
   ]
  },
  {
   "cell_type": "markdown",
   "metadata": {},
   "source": [
    "$$=x^2+2x+5x+2\\cdot5$$"
   ]
  },
  {
   "cell_type": "markdown",
   "metadata": {},
   "source": [
    "$$=(x^2+2x)+(5x+2\\cdot5)$$"
   ]
  },
  {
   "cell_type": "markdown",
   "metadata": {},
   "source": [
    "$$=x(x+2)+5(x+2)$$"
   ]
  },
  {
   "cell_type": "markdown",
   "metadata": {},
   "source": [
    "$$=(x+2)(x+5)$$"
   ]
  },
  {
   "cell_type": "markdown",
   "metadata": {},
   "source": [
    "$$\\circledast$$"
   ]
  },
  {
   "cell_type": "markdown",
   "metadata": {},
   "source": [
    "### \"El Moño\""
   ]
  },
  {
   "cell_type": "markdown",
   "metadata": {},
   "source": [
    "1. Acomodamos cuatro números en dos filas y dos columnas.\n",
    "\\begin{equation}\n",
    "\\begin{matrix}\n",
    "a&b\\\\\n",
    "c&d\n",
    "\\end{matrix}\n",
    "\\end{equation}\n",
    "2. En la primera columna debemos ingresar dos números que multiplicados entre sí den el coeficiente que acompaña a $x^2$.\n",
    "3. En la primera columna debemos ingresar dos números que multiplicados entre sí den el coeficiente que va solo.\n",
    "4. Luego multiplicaremos de forma cruzada los números en las esquinas (el de la esquina superior izquierda con el de la esquina inferior derecha y el de la esquina inferior izquierda con el de la esquina superior derecha).\n",
    "5. Después sumamos los resultados de la multiplicaciones anteriores y, si este número coincide con el coeficiente que acompaña a $x$, nuestra factorización es correcta.\n",
    "6. La factorización será $(ax+b)(cx+d)$."
   ]
  },
  {
   "cell_type": "markdown",
   "metadata": {},
   "source": [
    "* ***Ejemplo:***"
   ]
  },
  {
   "cell_type": "markdown",
   "metadata": {},
   "source": [
    "$$x^2+7x+10$$"
   ]
  },
  {
   "cell_type": "markdown",
   "metadata": {},
   "source": [
    "$$ =(x+2)(x+5) $$"
   ]
  },
  {
   "cell_type": "markdown",
   "metadata": {},
   "source": [
    "* ***Ejemplo:***"
   ]
  },
  {
   "cell_type": "markdown",
   "metadata": {},
   "source": [
    "$$x^2+25x+144$$"
   ]
  },
  {
   "cell_type": "markdown",
   "metadata": {},
   "source": [
    "$$ =(x+9)(x+16) $$"
   ]
  },
  {
   "cell_type": "markdown",
   "metadata": {},
   "source": [
    "$$\\circledast$$"
   ]
  },
  {
   "cell_type": "markdown",
   "metadata": {},
   "source": [
    "* ***Ejemplo:***"
   ]
  },
  {
   "cell_type": "markdown",
   "metadata": {},
   "source": [
    "$$ y^2-15y+56 $$"
   ]
  },
  {
   "cell_type": "markdown",
   "metadata": {},
   "source": [
    "$$ =(y-7)(y-8) $$"
   ]
  },
  {
   "cell_type": "markdown",
   "metadata": {},
   "source": [
    "$$\\circledast$$"
   ]
  },
  {
   "cell_type": "markdown",
   "metadata": {},
   "source": [
    "* ***Ejemplo***"
   ]
  },
  {
   "cell_type": "markdown",
   "metadata": {},
   "source": [
    "$$ z^2+z-12 $$"
   ]
  },
  {
   "cell_type": "markdown",
   "metadata": {},
   "source": [
    "$$ =(z-3)(z+4) $$"
   ]
  },
  {
   "cell_type": "markdown",
   "metadata": {},
   "source": [
    "$$\\circledast$$"
   ]
  },
  {
   "cell_type": "markdown",
   "metadata": {},
   "source": [
    "* ***Ejemplo***\n",
    "$$ a^2-12a-64 $$"
   ]
  },
  {
   "cell_type": "markdown",
   "metadata": {},
   "source": [
    "$$ =(a-16)(a+4) $$"
   ]
  },
  {
   "cell_type": "markdown",
   "metadata": {},
   "source": [
    "$$\\circledast$$"
   ]
  },
  {
   "cell_type": "markdown",
   "metadata": {},
   "source": [
    "* ***Ejemplo***\n",
    "$$ 2b^2+5b-3 $$"
   ]
  },
  {
   "cell_type": "markdown",
   "metadata": {},
   "source": [
    "$$ =(2b-1)(b+3) $$"
   ]
  },
  {
   "cell_type": "markdown",
   "metadata": {},
   "source": [
    "$$\\circledast$$"
   ]
  },
  {
   "cell_type": "markdown",
   "metadata": {},
   "source": [
    "* ***Ejemplo***\n",
    "$$ 10c^2-7c-12 $$"
   ]
  },
  {
   "cell_type": "markdown",
   "metadata": {},
   "source": [
    "$$ =(5c+4)(2c-3) $$"
   ]
  },
  {
   "cell_type": "markdown",
   "metadata": {},
   "source": [
    "$$\\circledast$$"
   ]
  },
  {
   "cell_type": "markdown",
   "metadata": {},
   "source": [
    "* ***Ejemplo***\n",
    "$$ 3x^2+8x+4 $$"
   ]
  },
  {
   "cell_type": "markdown",
   "metadata": {},
   "source": [
    "$$\\circledast$$"
   ]
  },
  {
   "cell_type": "markdown",
   "metadata": {},
   "source": [
    "* ***Ejemplo***\n",
    "$$ 24y^2-30y+6 $$"
   ]
  },
  {
   "cell_type": "markdown",
   "metadata": {},
   "source": [
    "$$\\circledast$$"
   ]
  },
  {
   "cell_type": "markdown",
   "metadata": {},
   "source": [
    "* ***Ejemplo***\n",
    "$$ 5x^2-41x+8 $$"
   ]
  },
  {
   "cell_type": "markdown",
   "metadata": {},
   "source": [
    "$$\\circledast$$"
   ]
  }
 ],
 "metadata": {
  "@webio": {
   "lastCommId": null,
   "lastKernelId": null
  },
  "kernelspec": {
   "display_name": "Julia 1.5.0",
   "language": "julia",
   "name": "julia-1.5"
  },
  "language_info": {
   "file_extension": ".jl",
   "mimetype": "application/julia",
   "name": "julia",
   "version": "1.5.0"
  }
 },
 "nbformat": 4,
 "nbformat_minor": 4
}
